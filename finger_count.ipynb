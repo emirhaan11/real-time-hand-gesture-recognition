{
 "cells": [
  {
   "metadata": {
    "ExecuteTime": {
     "end_time": "2025-08-11T22:50:30.905407Z",
     "start_time": "2025-08-11T22:50:30.901466Z"
    }
   },
   "cell_type": "code",
   "source": [
    "import numpy as np\n",
    "import cv2\n",
    "\n",
    "from sklearn.metrics import pairwise\n"
   ],
   "id": "c45d4e45276aa40",
   "outputs": [],
   "execution_count": 19
  },
  {
   "metadata": {
    "ExecuteTime": {
     "end_time": "2025-08-11T22:50:30.912833Z",
     "start_time": "2025-08-11T22:50:30.909413Z"
    }
   },
   "cell_type": "code",
   "source": [
    "background = None\n",
    "\n",
    "accumulated_weight = 0.5\n",
    "\n",
    "roi_top = 20\n",
    "roi_bottom = 300\n",
    "roi_right = 300\n",
    "roi_left = 600"
   ],
   "id": "8afe27d800dd07ac",
   "outputs": [],
   "execution_count": 20
  },
  {
   "metadata": {
    "ExecuteTime": {
     "end_time": "2025-08-11T22:50:30.921954Z",
     "start_time": "2025-08-11T22:50:30.918839Z"
    }
   },
   "cell_type": "code",
   "source": [
    "def calc_accum_avg(frame, accumulated_weight):\n",
    "\n",
    "    global background\n",
    "\n",
    "\n",
    "    if background is None:\n",
    "        background = frame.copy().astype('float')\n",
    "        return None\n",
    "\n",
    "    cv2.accumulateWeighted(frame, background, accumulated_weight)"
   ],
   "id": "e5c25f8fff58bf64",
   "outputs": [],
   "execution_count": 21
  },
  {
   "metadata": {
    "ExecuteTime": {
     "end_time": "2025-08-11T22:50:30.931298Z",
     "start_time": "2025-08-11T22:50:30.928299Z"
    }
   },
   "cell_type": "code",
   "source": [
    "def segment(frame, threshold_min = 25):\n",
    "    diff = cv2.absdiff(background.astype('uint8'), frame)\n",
    "\n",
    "    ret, thresholded = cv2.threshold(diff, threshold_min, 255, cv2.THRESH_BINARY)\n",
    "\n",
    "    contours, hierarchy = cv2.findContours(thresholded.copy(), cv2.RETR_EXTERNAL, cv2.CHAIN_APPROX_SIMPLE)\n",
    "\n",
    "    if len(contours) == 0:\n",
    "        return None\n",
    "\n",
    "    else:\n",
    "        # ASSUMING THE LARGEST EXTERNAL CONTOUR IN ROI, IS THE HAND\n",
    "        hand_segment = max(contours, key=cv2.contourArea)\n",
    "\n",
    "        return (thresholded, hand_segment)"
   ],
   "id": "8ea7e34adcee96c9",
   "outputs": [],
   "execution_count": 22
  },
  {
   "metadata": {
    "ExecuteTime": {
     "end_time": "2025-08-11T22:50:30.942293Z",
     "start_time": "2025-08-11T22:50:30.937887Z"
    }
   },
   "cell_type": "code",
   "source": [
    "def count_finger(thresholded, hand_segment):\n",
    "\n",
    "    conv_hull = cv2.convexHull(hand_segment)\n",
    "\n",
    "    # TOP\n",
    "    top = tuple(conv_hull[conv_hull[:,:,1].argmin()][0])\n",
    "    bottom = tuple(conv_hull[conv_hull[:,:,1].argmax()][0])\n",
    "    left = tuple(conv_hull[conv_hull[:,:,0].argmin()][0])\n",
    "    right = tuple(conv_hull[conv_hull[:,:,0].argmax()][0])\n",
    "\n",
    "    cX = (left[0] + right[0]) // 2\n",
    "    cY = (top[1] + bottom[1]) // 2\n",
    "\n",
    "    distance = pairwise.euclidean_distances([[cX,cY]], Y = [left,right,top,bottom])[0]\n",
    "\n",
    "    max_distance = distance.max()\n",
    "\n",
    "    radius = int(0.9*max_distance)\n",
    "    circumfrence = (2*np.pi*radius)\n",
    "\n",
    "    circular_roi = np.zeros(thresholded.shape, dtype = 'uint8')\n",
    "\n",
    "    cv2.circle(circular_roi, (cX,cY), radius, 255, 10)\n",
    "\n",
    "    circular_roi = cv2.bitwise_and(thresholded, thresholded, mask = circular_roi)\n",
    "\n",
    "    contours, hierarchy = cv2.findContours(circular_roi.copy(), cv2.RETR_EXTERNAL, cv2.CHAIN_APPROX_SIMPLE)\n",
    "\n",
    "    count = 0\n",
    "\n",
    "    for cnt in contours:\n",
    "\n",
    "        (x,y,w,h) = cv2.boundingRect(cnt)\n",
    "\n",
    "        out_of_wrist = (cY + (cY*0.25)) > (y+h)\n",
    "\n",
    "        limit_points = ((circumfrence*0.25) > cnt.shape[0])\n",
    "\n",
    "        if out_of_wrist and limit_points:\n",
    "            count += 1\n",
    "\n",
    "    return count"
   ],
   "id": "165aae2c91d97964",
   "outputs": [],
   "execution_count": 23
  },
  {
   "metadata": {
    "ExecuteTime": {
     "end_time": "2025-08-11T22:52:02.128359Z",
     "start_time": "2025-08-11T22:50:30.948523Z"
    }
   },
   "cell_type": "code",
   "source": [
    "cam = cv2.VideoCapture(0)\n",
    "\n",
    "num_frames = 0\n",
    "\n",
    "while True:\n",
    "\n",
    "    ret, frame = cam.read()\n",
    "    frame = cv2.flip(frame, 1)\n",
    "    frame_copy = frame.copy()\n",
    "\n",
    "    roi = frame[roi_top:roi_bottom, roi_right:roi_left]\n",
    "\n",
    "    gray = cv2.cvtColor(roi, cv2.COLOR_BGR2GRAY)\n",
    "\n",
    "    gray = cv2.GaussianBlur(gray, (7,7), 0)\n",
    "\n",
    "    if num_frames < 60:\n",
    "        calc_accum_avg(gray, accumulated_weight)\n",
    "\n",
    "        if num_frames <= 59:\n",
    "            cv2.putText(frame_copy, 'WAIT. GETTING BACKGROUND', (200,300), cv2.FONT_HERSHEY_SIMPLEX, 1, (0,0,255), 2)\n",
    "            cv2.imshow('Finger Count', frame_copy)\n",
    "    else:\n",
    "        hand = segment(gray)\n",
    "\n",
    "        if hand is not None:\n",
    "            thresholded, hand_segment = hand\n",
    "\n",
    "            # DRAWS CONTOURS AROUND REAL HAND IN LIVE STREAM\n",
    "            cv2.drawContours(frame_copy, [hand_segment + (roi_right,roi_top)], -1, (255,0,0), 5)\n",
    "\n",
    "            fingers = count_finger(thresholded, hand_segment)\n",
    "\n",
    "            cv2.putText(frame_copy, str(fingers), (70,50), cv2.FONT_HERSHEY_SIMPLEX, 1, (0,0,255), 2)\n",
    "\n",
    "            cv2.imshow('Thresholded',thresholded)\n",
    "\n",
    "    cv2.rectangle(frame_copy, (roi_left, roi_top), (roi_right, roi_bottom), (0,0,255), 5)\n",
    "\n",
    "    num_frames += 1\n",
    "\n",
    "    cv2.imshow('Finger Count', frame_copy)\n",
    "\n",
    "    k = cv2.waitKey(1)\n",
    "\n",
    "    if k == 27:\n",
    "        break\n",
    "\n",
    "cam.release()\n",
    "cv2.destroyAllWindows()\n"
   ],
   "id": "5aaf1fc9cbcd63e8",
   "outputs": [],
   "execution_count": 24
  }
 ],
 "metadata": {
  "kernelspec": {
   "display_name": "Python 3",
   "language": "python",
   "name": "python3"
  },
  "language_info": {
   "codemirror_mode": {
    "name": "ipython",
    "version": 2
   },
   "file_extension": ".py",
   "mimetype": "text/x-python",
   "name": "python",
   "nbconvert_exporter": "python",
   "pygments_lexer": "ipython2",
   "version": "2.7.6"
  }
 },
 "nbformat": 4,
 "nbformat_minor": 5
}
